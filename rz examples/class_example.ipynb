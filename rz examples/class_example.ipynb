{
 "cells": [
  {
   "cell_type": "code",
   "execution_count": null,
   "metadata": {},
   "outputs": [],
   "source": [
    "class animal:\n",
    "    def __init__(self, namevar, runvar, flightvar, swimvar):\n",
    "        self.name = namevar\n",
    "        self.speed = runvar\n",
    "        self.flight = flightvar\n",
    "        self.swim = swimvar\n",
    "        \n",
    "cat = animal(\"cat\", 15, 20, 30)\n",
    "\n",
    "print(cat.flight)"
   ]
  }
 ],
 "metadata": {
  "language_info": {
   "name": "python"
  }
 },
 "nbformat": 4,
 "nbformat_minor": 2
}
